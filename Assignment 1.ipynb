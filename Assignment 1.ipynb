{
 "cells": [
  {
   "cell_type": "code",
   "execution_count": 1,
   "metadata": {},
   "outputs": [
    {
     "name": "stderr",
     "output_type": "stream",
     "text": [
      "[nltk_data] Downloading package udhr to\n",
      "[nltk_data]     C:\\Users\\Ibragim\\AppData\\Roaming\\nltk_data...\n",
      "[nltk_data]   Package udhr is already up-to-date!\n",
      "[nltk_data] Downloading package punkt to\n",
      "[nltk_data]     C:\\Users\\Ibragim\\AppData\\Roaming\\nltk_data...\n",
      "[nltk_data]   Package punkt is already up-to-date!\n"
     ]
    }
   ],
   "source": [
    "import nltk\n",
    "nltk.download('udhr')\n",
    "nltk.download('punkt')\n",
    "from nltk.util import ngrams\n",
    "\n",
    "from nltk.corpus import udhr\n",
    "\n",
    "english = udhr.raw('English-Latin1')\n",
    "french = udhr.raw('French_Francais-Latin1')\n",
    "italian = udhr.raw('Italian_Italiano-Latin1')\n",
    "spanish = udhr.raw('Spanish_Espanol-Latin1')"
   ]
  },
  {
   "cell_type": "code",
   "execution_count": 2,
   "metadata": {},
   "outputs": [],
   "source": [
    "english_train, english_dev = english[0:1000], english[1000:1100]\n",
    "french_train, french_dev = french[0:1000], french[1000:1100]\n",
    "italian_train, italian_dev = italian[0:1000], italian[1000:1100]\n",
    "spanish_train, spanish_dev = spanish[0:1000], spanish[1000:1100]\n",
    "\n",
    "english_test = udhr.words('English-Latin1')[0:1000]\n",
    "french_test = udhr.words('French_Francais-Latin1')[0:1000]\n",
    "italian_test = udhr.words('Italian_Italiano-Latin1')[0:1000]\n",
    "spanish_test = udhr.words('Spanish_Espanol-Latin1')[0:1000]"
   ]
  },
  {
   "cell_type": "code",
   "execution_count": 3,
   "metadata": {},
   "outputs": [],
   "source": [
    "#--------pre-processing for lower-case letters and removing punctuation-----------\n",
    "\n",
    "#-----ENGLISH-------\n",
    "english_train_new = nltk.word_tokenize(english_train)\n",
    "english_train_new=[word.lower() for word in english_train_new if word.isalpha()]\n",
    "english_test_new = [w.lower() for w in english_test if w.isalpha()]\n",
    "\n",
    "#------FRENCH------\n",
    "french_train_new = nltk.word_tokenize(french_train)\n",
    "french_train_new=[word.lower() for word in french_train_new if word.isalpha()]\n",
    "french_test_new = [w.lower() for w in french_test if w.isalpha()]\n",
    "\n",
    "#------Spanish------\n",
    "spanish_train_new = nltk.word_tokenize(spanish_train)\n",
    "spanish_train_new=[word.lower() for word in spanish_train_new if word.isalpha()]\n",
    "spanish_test_new = [w.lower() for w in spanish_test if w.isalpha()]\n",
    "\n",
    "#------Italian------\n",
    "italian_train_new = nltk.word_tokenize(italian_train)\n",
    "italian_train_new=[word.lower() for word in italian_train_new if word.isalpha()]\n",
    "italian_test_new = [w.lower() for w in italian_test if w.isalpha()]"
   ]
  },
  {
   "cell_type": "code",
   "execution_count": 4,
   "metadata": {},
   "outputs": [],
   "source": [
    "# UNIGRAM MODEL\n",
    "english_uni=ngrams(english_train_new,1)\n",
    "english_uni= nltk.FreqDist(english_uni)\n",
    "\n",
    "french_uni=ngrams(french_train_new,1)\n",
    "french_uni= nltk.FreqDist(french_uni)\n",
    "\n",
    "spanish_uni=ngrams(spanish_train_new,1)\n",
    "spanish_uni= nltk.FreqDist(spanish_uni)\n",
    "\n",
    "italian_uni=ngrams(italian_train_new,1)\n",
    "italian_uni= nltk.FreqDist(italian_uni)"
   ]
  },
  {
   "cell_type": "code",
   "execution_count": 5,
   "metadata": {},
   "outputs": [],
   "source": [
    "# BIGRAM MODEL\n",
    "english_bi=ngrams(english_train_new,2)\n",
    "english_bi= nltk.FreqDist(english_bi)\n",
    "\n",
    "french_bi=ngrams(french_train_new,2)\n",
    "french_bi= nltk.FreqDist(french_bi)\n",
    "\n",
    "spanish_bi=ngrams(spanish_train_new,2)\n",
    "spanish_bi= nltk.FreqDist(spanish_bi)\n",
    "\n",
    "italian_bi=ngrams(italian_train_new,2)\n",
    "italian_bi= nltk.FreqDist(italian_bi)\n"
   ]
  },
  {
   "cell_type": "code",
   "execution_count": 6,
   "metadata": {},
   "outputs": [],
   "source": [
    "# TRIGRAM MODEL\n",
    "english_tri=ngrams(english_train_new,3)\n",
    "english_tri= nltk.FreqDist(english_tri)\n",
    "\n",
    "french_tri=ngrams(french_train_new,3)\n",
    "french_tri= nltk.FreqDist(french_tri)\n",
    "\n",
    "spanish_tri=ngrams(spanish_train_new,3)\n",
    "spanish_tri= nltk.FreqDist(spanish_tri)\n",
    "\n",
    "italian_tri=ngrams(italian_train_new,3)\n",
    "italian_tri= nltk.FreqDist(italian_tri)"
   ]
  },
  {
   "cell_type": "code",
   "execution_count": null,
   "metadata": {},
   "outputs": [],
   "source": []
  },
  {
   "cell_type": "code",
   "execution_count": 7,
   "metadata": {},
   "outputs": [
    {
     "name": "stdout",
     "output_type": "stream",
     "text": [
      "Accuracy=0.9977728285077951\n"
     ]
    }
   ],
   "source": [
    "#English vs French Unigram Accuracy with English test data\n",
    "\n",
    "count_eng = 0\n",
    "for i in english_test_new:\n",
    "  english_test_unigram =list(nltk.ngrams(i,1))\n",
    "  probability_english =1\n",
    "  probability_french  =1\n",
    "\n",
    "  for t in  english_test_unigram:\n",
    "     probability_english = probability_english * english_uni.freq(t)\n",
    "     probability_french  = probability_french  *  french_uni.freq(t)\n",
    "\n",
    "\n",
    "  if probability_english >= probability_french:\n",
    "         count_eng=count_eng+1 #Laplase smoothing (add-1) \n",
    "\n",
    "print(\"Accuracy=\" +str(count_eng/len(english_test_new)))"
   ]
  },
  {
   "cell_type": "code",
   "execution_count": 8,
   "metadata": {},
   "outputs": [
    {
     "name": "stdout",
     "output_type": "stream",
     "text": [
      "Accuracy=1.0\n"
     ]
    }
   ],
   "source": [
    "#English vs French Bigram Accuracy with English test data\n",
    "\n",
    "count_eng = 0\n",
    "for i in english_test_new:\n",
    "  english_test_bigram =list(nltk.ngrams(i,2))\n",
    "  probability_english =1\n",
    "  probability_french  =1\n",
    "\n",
    "  for t in  english_test_bigram:\n",
    "     probability_english = probability_english * english_bi.freq(t)\n",
    "     probability_french  = probability_french  *  french_bi.freq(t)\n",
    "\n",
    "\n",
    "  if probability_english >= probability_french:\n",
    "         count_eng=count_eng+1 #Laplase smoothing (add-1) \n",
    "\n",
    "print(\"Accuracy=\" +str(count_eng/len(english_test_new)))"
   ]
  },
  {
   "cell_type": "code",
   "execution_count": 9,
   "metadata": {},
   "outputs": [
    {
     "name": "stdout",
     "output_type": "stream",
     "text": [
      "Accuracy=1.0\n"
     ]
    }
   ],
   "source": [
    "#English vs French Trigram Accuracy with English test data\n",
    "\n",
    "count_eng = 0\n",
    "for i in english_test_new:\n",
    "  english_test_trigram =list(nltk.ngrams(i,3))\n",
    "  probability_english =1\n",
    "  probability_french  =1\n",
    "\n",
    "  for t in  english_test_trigram:\n",
    "     probability_english = probability_english * english_tri.freq(t)\n",
    "     probability_french  = probability_french  *  french_tri.freq(t)\n",
    "\n",
    "\n",
    "  if probability_english >= probability_french:\n",
    "         count_eng=count_eng+1 #Laplase smoothing (add-1) \n",
    "\n",
    "print(\"Accuracy=\" +str(count_eng/len(english_test_new)))"
   ]
  },
  {
   "cell_type": "code",
   "execution_count": 10,
   "metadata": {},
   "outputs": [
    {
     "name": "stdout",
     "output_type": "stream",
     "text": [
      "Accuracy =0.9908361970217641\n"
     ]
    }
   ],
   "source": [
    "#French vs English   Unigram Accuracy with French test data\n",
    "\n",
    "count_french = 0\n",
    "for i in french_test_new:\n",
    "    french_test_unigram = list(nltk.ngrams(i, 1))\n",
    "    probability_english = 1\n",
    "    probability_french = 1\n",
    "\n",
    "    for t in french_test_unigram:\n",
    "        probability_english = probability_english * english_uni.freq(t)\n",
    "        probability_french = probability_french * french_uni.freq(t)\n",
    "#Laplase smoothing (add-1)\n",
    "    if probability_english <= probability_french:\n",
    "        count_french = count_french + 1\n",
    "\n",
    "print(\"Accuracy =\" + str(count_french / len(french_test_new)))"
   ]
  },
  {
   "cell_type": "code",
   "execution_count": 11,
   "metadata": {},
   "outputs": [
    {
     "name": "stdout",
     "output_type": "stream",
     "text": [
      "Accuracy =1.0\n"
     ]
    }
   ],
   "source": [
    "#French vs English   Bigram Accuracy with French test data\n",
    "count_french = 0\n",
    "for i in french_test_new:\n",
    "    french_test_unigram = list(nltk.ngrams(i, 2))\n",
    "    probability_english = 1\n",
    "    probability_french = 1\n",
    "\n",
    "    for t in french_test_unigram:\n",
    "        probability_english = probability_english * english_bi.freq(t)\n",
    "        probability_french = probability_french * french_bi.freq(t)\n",
    "#Laplase smoothing (add-1)\n",
    "    if probability_english <= probability_french:\n",
    "        count_french = count_french + 1\n",
    "\n",
    "print(\"Accuracy =\" +str(count_french / len(french_test_new)))\n"
   ]
  },
  {
   "cell_type": "code",
   "execution_count": 12,
   "metadata": {},
   "outputs": [
    {
     "name": "stdout",
     "output_type": "stream",
     "text": [
      "Accuracy =1.0\n"
     ]
    }
   ],
   "source": [
    "#French vs English  Trigram Accuracy with French test data\n",
    "count_french = 0\n",
    "for i in french_test_new:\n",
    "    french_test_unigram = list(nltk.ngrams(i, 3))\n",
    "    probability_english = 1\n",
    "    probability_french = 1\n",
    "\n",
    "    for t in french_test_unigram:\n",
    "        probability_english = probability_english * english_tri.freq(t)\n",
    "        probability_french = probability_french * french_tri.freq(t)\n",
    "#Laplase smoothing (add-1)\n",
    "    if probability_english <= probability_french:\n",
    "        count_french = count_french + 1\n",
    "\n",
    "print(\"Accuracy =\" +str(count_french / len(french_test_new)))\n"
   ]
  },
  {
   "cell_type": "code",
   "execution_count": 15,
   "metadata": {},
   "outputs": [
    {
     "name": "stdout",
     "output_type": "stream",
     "text": [
      "Accuracy=1.0\n"
     ]
    }
   ],
   "source": [
    "#PROBLEM TWO: FOR SPANISH VS ITALIAN\n",
    "\n",
    "#Italian vs Spanish  Unigram Accuracy with Italian test data\n",
    "\n",
    "count_italian = 0\n",
    "for i in italian_test_new:\n",
    "    italian_test_unigram = list(nltk.ngrams(i, 1))\n",
    "    probability_italian = 1\n",
    "    probability_spanish = 1\n",
    "\n",
    "    for t in italian_test_unigram:\n",
    "        probability_italian = probability_italian * italian_uni.freq(t)\n",
    "        probability_spanish = probability_spanish * spanish_uni.freq(t)\n",
    "#Laplase smoothing (add-1)\n",
    "    if probability_italian >= probability_spanish:\n",
    "        count_italian = count_italian + 1\n",
    "\n",
    "print(\"Accuracy=\" + str(count_italian / len(italian_test_new)))\n",
    "\n"
   ]
  },
  {
   "cell_type": "code",
   "execution_count": 16,
   "metadata": {},
   "outputs": [
    {
     "name": "stdout",
     "output_type": "stream",
     "text": [
      "Accuracy=1.0\n"
     ]
    }
   ],
   "source": [
    "#Italian vs Spanish  Bigram Accuracy with Italian test data\n",
    "\n",
    "count_italian = 0\n",
    "for i in italian_test_new:\n",
    "    italian_test_bigram = list(nltk.ngrams(i, 2))\n",
    "    probability_italian = 1\n",
    "    probability_spanish = 1\n",
    "\n",
    "    for t in italian_test_bigram:\n",
    "        probability_italian = probability_italian * italian_bi.freq(t)\n",
    "        probability_spanish = probability_spanish * spanish_bi.freq(t)\n",
    "#Laplase smoothing (add-1)\n",
    "    if probability_italian >= probability_spanish:\n",
    "        count_italian = count_italian + 1\n",
    "\n",
    "print(\"Accuracy=\" + str(count_italian / len(italian_test_new)))"
   ]
  },
  {
   "cell_type": "code",
   "execution_count": 17,
   "metadata": {},
   "outputs": [
    {
     "name": "stdout",
     "output_type": "stream",
     "text": [
      "Accuracy=1.0\n"
     ]
    }
   ],
   "source": [
    "#Italian vs Spanish  trigram Accuracy with Italian test data\n",
    "\n",
    "count_italian = 0\n",
    "for i in italian_test_new:\n",
    "    italian_test_trigram = list(nltk.ngrams(i, 3))\n",
    "    probability_italian = 1\n",
    "    probability_spanish = 1\n",
    "\n",
    "    for t in italian_test_trigram:\n",
    "        probability_italian = probability_italian * italian_tri.freq(t)\n",
    "        probability_spanish = probability_spanish * spanish_tri.freq(t)\n",
    "#Laplase smoothing (add-1)\n",
    "    if probability_italian >= probability_spanish:\n",
    "        count_italian = count_italian + 1\n",
    "\n",
    "print(\"Accuracy=\" + str(count_italian / len(italian_test_new)))"
   ]
  },
  {
   "cell_type": "code",
   "execution_count": 18,
   "metadata": {},
   "outputs": [
    {
     "name": "stdout",
     "output_type": "stream",
     "text": [
      "Accuracy=0.9564245810055866\n"
     ]
    }
   ],
   "source": [
    "#Spanish vs Italian  Unigram Accuracy with Italian test data\n",
    "\n",
    "count_spanish = 0\n",
    "for i in spanish_test_new:\n",
    "    spanish_test_unigram = list(nltk.ngrams(i, 1))\n",
    "    probability_italian = 1\n",
    "    probability_spanish = 1\n",
    "\n",
    "    for t in spanish_test_unigram:\n",
    "        probability_italian = probability_italian * italian_uni.freq(t)\n",
    "        probability_spanish = probability_spanish * spanish_uni.freq(t)\n",
    "\n",
    "    if probability_italian <= probability_spanish:\n",
    "        count_spanish = count_spanish + 1\n",
    "\n",
    "print(\"Accuracy=\" + str(count_spanish / len(spanish_test_new)))"
   ]
  },
  {
   "cell_type": "code",
   "execution_count": 19,
   "metadata": {},
   "outputs": [
    {
     "name": "stdout",
     "output_type": "stream",
     "text": [
      "Accuracy=1.0\n"
     ]
    }
   ],
   "source": [
    "#Spanish vs Italian  Bigram Accuracy with Italian test data\n",
    "\n",
    "count_spanish = 0\n",
    "for i in spanish_test_new:\n",
    "    spanish_test_bigram = list(nltk.ngrams(i, 2))\n",
    "    probability_italian = 1\n",
    "    probability_spanish = 1\n",
    "\n",
    "    for t in spanish_test_bigram:\n",
    "        probability_italian = probability_italian * italian_bi.freq(t)\n",
    "        probability_spanish = probability_spanish * spanish_bi.freq(t)\n",
    "\n",
    "    if probability_italian <= probability_spanish:\n",
    "        count_spanish = count_spanish + 1\n",
    "\n",
    "print(\"Accuracy=\" + str(count_spanish / len(spanish_test_new)))"
   ]
  },
  {
   "cell_type": "code",
   "execution_count": 79,
   "metadata": {},
   "outputs": [
    {
     "name": "stdout",
     "output_type": "stream",
     "text": [
      "Accuracy=1.0\n"
     ]
    }
   ],
   "source": [
    "#Spanish vs Italian  Trigram Accuracy with Italian test data\n",
    "\n",
    "count_spanish = 0\n",
    "for i in spanish_test_new:\n",
    "    spanish_test_trigram = list(nltk.ngrams(i, 3))\n",
    "    probability_italian = 1\n",
    "    probability_spanish = 1\n",
    "\n",
    "    for t in spanish_test_trigram:\n",
    "        probability_italian = probability_italian * italian_tri.freq(t)\n",
    "        probability_spanish = probability_spanish * spanish_tri.freq(t)\n",
    "\n",
    "    if probability_italian <= probability_spanish:\n",
    "        count_spanish = count_spanish + 1\n",
    "\n",
    "print(\"Accuracy=\" + str(count_spanish / len(spanish_test_new)))\n",
    "\n",
    "# To compare pairs we can come to the conclusion that Spanish vs Italian is harder to differentiate "
   ]
  }
 ],
 "metadata": {
  "kernelspec": {
   "display_name": "Python 3",
   "language": "python",
   "name": "python3"
  },
  "language_info": {
   "codemirror_mode": {
    "name": "ipython",
    "version": 3
   },
   "file_extension": ".py",
   "mimetype": "text/x-python",
   "name": "python",
   "nbconvert_exporter": "python",
   "pygments_lexer": "ipython3",
   "version": "3.7.3"
  }
 },
 "nbformat": 4,
 "nbformat_minor": 2
}
